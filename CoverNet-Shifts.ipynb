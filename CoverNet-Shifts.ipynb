{
 "cells": [
  {
   "cell_type": "code",
   "execution_count": 1,
   "id": "9eb4f349",
   "metadata": {
    "scrolled": true
   },
   "outputs": [
    {
     "name": "stderr",
     "output_type": "stream",
     "text": [
      "/home/mohammed/anaconda3/envs/covernet/lib/python3.9/site-packages/ysdc_dataset_api/utils/transform.py:90: NumbaPerformanceWarning: '@' is faster on contiguous arrays, called on (array(float32, 2d, A), array(float32, 2d, C))\n",
      "  res = transform @ ph\n",
      "/home/mohammed/anaconda3/envs/covernet/lib/python3.9/site-packages/numba/core/typing/npydecl.py:965: NumbaPerformanceWarning: '@' is faster on contiguous arrays, called on (array(float32, 2d, A), array(float32, 2d, C))\n",
      "  warnings.warn(NumbaPerformanceWarning(msg))\n"
     ]
    }
   ],
   "source": [
    "import os\n",
    "import numpy as np\n",
    "import matplotlib.pyplot as plt\n",
    "from matplotlib import collections as mc\n",
    "import yaml\n",
    "import torch\n",
    "from torch.utils.data import DataLoader\n",
    "import torch.optim as optim\n",
    "\n",
    "#!pip install \"git+https://github.com/yandex-research/shifts.git#egg=ysdc_dataset_api&subdirectory=sdc\"\n",
    "import ysdc_dataset_api\n",
    "from ysdc_dataset_api.utils import get_file_paths, scenes_generator, transform_2d_points\n",
    "from dataset import CustomDataset\n",
    "from ysdc_dataset_api.features import FeatureRenderer\n",
    "from trajectory_set_generator import FixedGenerator\n",
    "from covernet_backbone import ResNetBackbone, MobileNetBackbone\n",
    "from covernet_predictor import CoverNet\n",
    "from metrics import ConstantLatticeLoss, ADE, FDE\n",
    "from train import train\n",
    "\n",
    "\n",
    "%load_ext autoreload\n",
    "%autoreload 2\n",
    "\n",
    "device = torch.device(\"cuda:0\" if torch.cuda.is_available() else \"cpu\")"
   ]
  },
  {
   "cell_type": "markdown",
   "id": "e1698d65",
   "metadata": {},
   "source": [
    "### Rendering"
   ]
  },
  {
   "cell_type": "code",
   "execution_count": 3,
   "id": "a5956ce2",
   "metadata": {},
   "outputs": [],
   "source": [
    "with open(\"yandex_shifts_covernet.yaml\", \"r\") as stream:\n",
    "    config = yaml.safe_load(stream)\n",
    "    renderer_config = config['renderer']\n",
    "\n",
    "renderer = FeatureRenderer(renderer_config)\n",
    "#renderer.to_feature_map_tf"
   ]
  },
  {
   "cell_type": "markdown",
   "id": "864a0897",
   "metadata": {},
   "source": [
    "### Data"
   ]
  },
  {
   "cell_type": "code",
   "execution_count": 59,
   "id": "1476ba08",
   "metadata": {},
   "outputs": [],
   "source": [
    "root = '/mnt/Vol0/datasets/yandex_shifts/sdc/data'\n",
    "\n",
    "dataset_path = root + '/train_pb'\n",
    "prerendered_dataset_path = root + '/train_rendered'\n",
    "scene_tags_fpath = root + '/train_tags.txt'\n",
    "\n",
    "val_dataset_path = root + '/development_pb'\n",
    "prerendered_val_dataset_path = root + '/development_rendered'\n",
    "val_scene_tags_fpath = root + '/development_tags.txt'\n",
    "\n",
    "save_root_path = '/hdd/CoverNet/saved_models'\n",
    "\n",
    "past_steps = 1\n",
    "\n",
    "def filter_stationary_trajectory(trajectory_tags_list):\n",
    "    return 'kStationary' not in trajectory_tags_list"
   ]
  },
  {
   "cell_type": "code",
   "execution_count": 60,
   "id": "c0a377fa",
   "metadata": {},
   "outputs": [
    {
     "name": "stdout",
     "output_type": "stream",
     "text": [
      "388406/388406 scenes fit the filter criteria.\n"
     ]
    }
   ],
   "source": [
    "dataset = CustomDataset(\n",
    "    dataset_path=dataset_path,\n",
    "    scene_tags_fpath=scene_tags_fpath,\n",
    "    feature_producers=[renderer],\n",
    "    transform_ground_truth_to_agent_frame=True,\n",
    "    prerendered_dataset_path=prerendered_dataset_path,\n",
    "    past_steps = past_steps,\n",
    "    trajectory_tags_filter=filter_stationary_trajectory\n",
    ")"
   ]
  },
  {
   "cell_type": "code",
   "execution_count": 61,
   "id": "8b656d1b",
   "metadata": {},
   "outputs": [
    {
     "name": "stdout",
     "output_type": "stream",
     "text": [
      "36605/36605 scenes fit the filter criteria.\n"
     ]
    }
   ],
   "source": [
    "val_dataset = CustomDataset(\n",
    "    dataset_path=val_dataset_path,\n",
    "    scene_tags_fpath=val_scene_tags_fpath,\n",
    "    feature_producers=[renderer],\n",
    "    transform_ground_truth_to_agent_frame=True,\n",
    "    prerendered_dataset_path=prerendered_val_dataset_path,\n",
    "    past_steps = past_steps,\n",
    "    div='val'\n",
    ")"
   ]
  },
  {
   "cell_type": "markdown",
   "id": "29b7ce03",
   "metadata": {},
   "source": [
    "### Visualization"
   ]
  },
  {
   "cell_type": "code",
   "execution_count": 62,
   "id": "6a79c88e",
   "metadata": {},
   "outputs": [],
   "source": [
    "dataset_iter = iter(dataset)\n",
    "data_items = []\n",
    "for i in range(350):\n",
    "    data_items.append(next(dataset_iter))"
   ]
  },
  {
   "cell_type": "code",
   "execution_count": 63,
   "id": "e8f0cd71",
   "metadata": {},
   "outputs": [],
   "source": [
    "random_index = np.random.randint(0, len(data_items))\n",
    "data_item = data_items[random_index]\n",
    "transformed_gt = transform_2d_points(data_item['ground_truth_trajectory'], renderer.to_feature_map_tf)\n",
    "transformed_gt = np.round(transformed_gt - 0.5).astype(np.int32)"
   ]
  },
  {
   "cell_type": "code",
   "execution_count": 66,
   "id": "e1bea0ec",
   "metadata": {},
   "outputs": [
    {
     "data": {
      "text/plain": [
       "array([[64, 63],\n",
       "       [64, 63],\n",
       "       [65, 63],\n",
       "       [65, 63],\n",
       "       [66, 63],\n",
       "       [66, 64],\n",
       "       [66, 64],\n",
       "       [66, 64],\n",
       "       [66, 64],\n",
       "       [67, 64],\n",
       "       [67, 64],\n",
       "       [67, 64],\n",
       "       [67, 64],\n",
       "       [67, 64],\n",
       "       [67, 64],\n",
       "       [67, 64],\n",
       "       [67, 64],\n",
       "       [67, 64],\n",
       "       [67, 64],\n",
       "       [67, 64],\n",
       "       [67, 64],\n",
       "       [67, 64],\n",
       "       [67, 64],\n",
       "       [67, 64],\n",
       "       [67, 64]], dtype=int32)"
      ]
     },
     "execution_count": 66,
     "metadata": {},
     "output_type": "execute_result"
    }
   ],
   "source": [
    "transformed_gt"
   ]
  },
  {
   "cell_type": "code",
   "execution_count": 67,
   "id": "b8c1d62a",
   "metadata": {},
   "outputs": [
    {
     "data": {
      "text/plain": [
       "array([[ 4.9072266e-01, -1.5625000e-02],\n",
       "       [ 9.1503906e-01, -2.1484375e-02],\n",
       "       [ 1.3481445e+00, -3.6621094e-02],\n",
       "       [ 1.7421875e+00, -2.4414062e-02],\n",
       "       [ 2.0190430e+00, -2.4414062e-03],\n",
       "       [ 2.2988281e+00,  1.9042969e-02],\n",
       "       [ 2.5996094e+00,  4.1503906e-02],\n",
       "       [ 2.8461914e+00,  8.3496094e-02],\n",
       "       [ 2.9965820e+00,  1.3671875e-01],\n",
       "       [ 3.1572266e+00,  1.8554688e-01],\n",
       "       [ 3.3281250e+00,  2.1728516e-01],\n",
       "       [ 3.4897461e+00,  2.7099609e-01],\n",
       "       [ 3.5668945e+00,  2.9150391e-01],\n",
       "       [ 3.5747070e+00,  2.9833984e-01],\n",
       "       [ 3.5917969e+00,  2.9687500e-01],\n",
       "       [ 3.6137695e+00,  2.9687500e-01],\n",
       "       [ 3.5834961e+00,  3.0859375e-01],\n",
       "       [ 3.5708008e+00,  3.3544922e-01],\n",
       "       [ 3.5991211e+00,  3.4716797e-01],\n",
       "       [ 3.5703125e+00,  3.5058594e-01],\n",
       "       [ 3.5512695e+00,  4.1162109e-01],\n",
       "       [ 3.5473633e+00,  3.9648438e-01],\n",
       "       [ 3.6528320e+00,  3.3789062e-01],\n",
       "       [ 3.5996094e+00,  3.2617188e-01],\n",
       "       [ 3.6020508e+00,  2.9248047e-01]], dtype=float32)"
      ]
     },
     "execution_count": 67,
     "metadata": {},
     "output_type": "execute_result"
    }
   ],
   "source": [
    "data_item['ground_truth_trajectory']"
   ]
  },
  {
   "cell_type": "code",
   "execution_count": 68,
   "id": "71e940db",
   "metadata": {},
   "outputs": [
    {
     "data": {
      "text/plain": [
       "(17, 128, 128)"
      ]
     },
     "execution_count": 68,
     "metadata": {},
     "output_type": "execute_result"
    }
   ],
   "source": [
    "data_item['feature_maps'].shape"
   ]
  },
  {
   "cell_type": "code",
   "execution_count": 69,
   "id": "68d7b2ce",
   "metadata": {},
   "outputs": [
    {
     "data": {
      "image/png": "[encoded data removed]",
      "text/plain": [
       "<Figure size 720x720 with 1 Axes>"
      ]
     },
     "metadata": {
      "needs_background": "light"
     },
     "output_type": "display_data"
    }
   ],
   "source": [
    "# Plot vehicles occupancy, pedestrian occupancy, lane occupancy and road polygon\n",
    "plt.figure(figsize=(10, 10))\n",
    "plt.title(f'Scene#{random_index} ---> ID#'+data_item['scene_id'], fontsize=20)\n",
    "plt.imshow(data_item['feature_maps'][0], origin='lower', cmap='binary', alpha=0.7)\n",
    "plt.imshow(data_item['feature_maps'][6], origin='lower', cmap='binary', alpha=0.5)\n",
    "plt.imshow(data_item['feature_maps'][13], origin='lower', cmap='binary', alpha=0.2)\n",
    "plt.imshow(data_item['feature_maps'][16], origin='lower', cmap='binary', alpha=0.1)\n",
    "ax = plt.gca()\n",
    "ax.add_collection(mc.LineCollection([transformed_gt], color='green'))\n",
    "plt.show()"
   ]
  },
  {
   "cell_type": "markdown",
   "id": "e4f8244c",
   "metadata": {},
   "source": [
    "### Trajectory Set Generator"
   ]
  },
  {
   "cell_type": "code",
   "execution_count": null,
   "id": "3b5d4d58",
   "metadata": {},
   "outputs": [],
   "source": [
    "fg = FixedGenerator(load_fpth='epsilon_2_k_64.pkl')\n",
    "traj_set = fg.traj_set"
   ]
  },
  {
   "cell_type": "markdown",
   "id": "360e2a81",
   "metadata": {},
   "source": [
    "### Model"
   ]
  },
  {
   "cell_type": "code",
   "execution_count": null,
   "id": "44bdea09",
   "metadata": {
    "scrolled": false
   },
   "outputs": [],
   "source": [
    "feature_maps = torch.tensor(data_item['feature_maps'])\n",
    "mobilenet_weights_file_path = f'{save_root_path}/model-seed-10-epoch-57-trimmed.pt'"
   ]
  },
  {
   "cell_type": "markdown",
   "id": "1779dfac",
   "metadata": {},
   "source": [
    "### Model Training"
   ]
  },
  {
   "cell_type": "markdown",
   "id": "72b07ea6",
   "metadata": {},
   "source": [
    "#### minimal pipeline"
   ]
  },
  {
   "cell_type": "code",
   "execution_count": null,
   "id": "65e1ea91",
   "metadata": {},
   "outputs": [],
   "source": [
    "backbone = ResNetBackbone(feature_maps.shape, pretrained=True)\n",
    "model = CoverNet(backbone=backbone, asv_dim=5*past_steps)\n",
    "\n",
    "val_dataloader = DataLoader(val_dataset, batch_size=256)\n",
    "optimizer = optim.SGD(model.parameters(), lr=1e-4, momentum=0.9, weight_decay=5e-4)\n",
    "criterion = ConstantLatticeLoss(traj_set)\n",
    "\n",
    "model.train()\n",
    "\n",
    "for item in val_dataloader:\n",
    "\n",
    "    hdmap = item['feature_maps']\n",
    "    agent_state_vector = item['agent_state_vector']\n",
    "    ground_truth = item['ground_truth_trajectory']\n",
    "\n",
    "    optimizer.zero_grad()\n",
    "    preds = model(hdmap, agent_state_vector)\n",
    "    loss = criterion(preds, ground_truth)\n",
    "    loss.backward()\n",
    "    torch.nn.utils.clip_grad_norm_(model.parameters(), max_norm=5.)\n",
    "    optimizer.step()\n",
    "\n",
    "    print(loss.item())"
   ]
  },
  {
   "cell_type": "markdown",
   "id": "502d88b0",
   "metadata": {},
   "source": [
    "#### main pipeline"
   ]
  },
  {
   "cell_type": "code",
   "execution_count": null,
   "id": "e4b3b148",
   "metadata": {},
   "outputs": [],
   "source": [
    "resnet_backbone = ResNetBackbone(feature_maps.shape, pretrained=True)\n",
    "mobilenet_backbone = MobileNetBackbone(feature_maps.shape, weights_path=mobilenet_weights_file_path)\n",
    "covernet_model = CoverNet(backbone=resnet_backbone, asv_dim=5*past_steps)\n",
    "loss, val_loss = train(dataset, val_dataset, covernet_model, ConstantLatticeLoss(traj_set),\n",
    "      f'{save_root_path}/fixed_eps_2_k_64_resnet50')"
   ]
  },
  {
   "cell_type": "markdown",
   "id": "9cbdc842",
   "metadata": {},
   "source": [
    "### Model Evaluation"
   ]
  },
  {
   "cell_type": "code",
   "execution_count": null,
   "id": "e54c33f9",
   "metadata": {},
   "outputs": [],
   "source": [
    "def _init_fn(worker_id):\n",
    "    np.random.seed(42)\n",
    "    \n",
    "def evaluate(model, val_dataloader, criterion):\n",
    "    model.eval()\n",
    "    cum_loss = 0\n",
    "    \n",
    "    with torch.no_grad():\n",
    "        for item in val_dataloader:\n",
    "            hdmap = item['feature_maps'].to(device)\n",
    "            agent_state_vector = item['agent_state_vector'].to(device)\n",
    "            ground_truth = item['ground_truth_trajectory'].to(device)\n",
    "            \n",
    "            output = model(hdmap, agent_state_vector)\n",
    "            loss = criterion(output, ground_truth)\n",
    "            cum_loss += loss.item()\n",
    "    \n",
    "    return cum_loss / len(val_dataloader)\n",
    "\n",
    "model = torch.load(f'{save_root_path}/fixed_eps_2_k_64_pretrained_resnet50_seed_42.pt')\n",
    "val_dataloader = DataLoader(val_dataset, batch_size=256, worker_init_fn=_init_fn, pin_memory=True)\n",
    "evaluate(model, val_dataloader, ADE(traj_set))"
   ]
  },
  {
   "cell_type": "markdown",
   "id": "df5d200b",
   "metadata": {},
   "source": [
    "### Visualization"
   ]
  },
  {
   "cell_type": "code",
   "execution_count": null,
   "id": "980840c4",
   "metadata": {},
   "outputs": [],
   "source": [
    "def plot(train_losses, val_losses):\n",
    "    plt.ion()\n",
    "    fig, (ax1, ax2) = plt.subplots(1, 2, figsize=(10, 5))\n",
    "\n",
    "    ax1.plot(train_losses)\n",
    "    ax1.set_title('Training Loss', fontsize=18)\n",
    "    ax1.set_xlabel(\"Iteration\", fontsize=14)\n",
    "    ax1.set_ylabel(\"Loss\", fontsize=14)\n",
    "\n",
    "    ax2.plot(val_losses)\n",
    "    ax2.set_title('Validation Loss', fontsize=18)\n",
    "    ax2.set_xlabel(\"Iteration\", fontsize=14)\n",
    "    ax2.set_ylabel(\"Val Loss\", fontsize=14)\n",
    "\n",
    "    fig.tight_layout()\n",
    "    plt.show()"
   ]
  },
  {
   "cell_type": "code",
   "execution_count": null,
   "id": "0b092849",
   "metadata": {},
   "outputs": [],
   "source": [
    "plot(loss, val_loss)"
   ]
  }
 ],
 "metadata": {
  "kernelspec": {
   "display_name": "Python 3 (ipykernel)",
   "language": "python",
   "name": "python3"
  },
  "language_info": {
   "codemirror_mode": {
    "name": "ipython",
    "version": 3
   },
   "file_extension": ".py",
   "mimetype": "text/x-python",
   "name": "python",
   "nbconvert_exporter": "python",
   "pygments_lexer": "ipython3",
   "version": "3.9.7"
  }
 },
 "nbformat": 4,
 "nbformat_minor": 5
}
